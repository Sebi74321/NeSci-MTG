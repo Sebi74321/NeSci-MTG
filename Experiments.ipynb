{
 "cells": [
  {
   "cell_type": "code",
   "execution_count": 15,
   "id": "initial_id",
   "metadata": {
    "collapsed": true,
    "ExecuteTime": {
     "end_time": "2024-12-01T15:29:53.198354200Z",
     "start_time": "2024-12-01T15:29:51.895496500Z"
    }
   },
   "outputs": [
    {
     "name": "stdout",
     "output_type": "stream",
     "text": [
      "   Deck Number          Commander Name  Price                           Tag  \\\n",
      "0            0  Atraxa, Praetors Voice   4283             ['Planeswalkers']   \n",
      "1            1  Atraxa, Praetors Voice    650      ['Phyrexians', 'Infect']   \n",
      "2            2  Atraxa, Praetors Voice   1564            ['+1/+1 Counters']   \n",
      "3            3  Atraxa, Praetors Voice    375  ['Control', 'Planeswalkers']   \n",
      "4            4  Atraxa, Praetors Voice    329                    ['Infect']   \n",
      "\n",
      "         Date                   Card 1                    Card 2  \\\n",
      "0  2024-11-18  Atraxa, Praetors' Voice           Ajani Steadfast   \n",
      "1  2024-11-18  Atraxa, Praetors' Voice      Ajani, Sleeper Agent   \n",
      "2  2024-11-18  Atraxa, Praetors' Voice  Anduril, Narsil Reforged   \n",
      "3  2024-11-18  Atraxa, Praetors' Voice            Adarkar Wastes   \n",
      "4  2024-11-18  Atraxa, Praetors' Voice      Agent Frank Horrigan   \n",
      "\n",
      "                      Card 3              Card 4                 Card 5  ...  \\\n",
      "0  An Offer You Can't Refuse       Arcane Denial          Arcane Signet  ...   \n",
      "1              Angel's Grace      Arcane Sanctum          Arcane Signet  ...   \n",
      "2              Arcane Signet  Archangel of Thune  Arwen, Weaver of Hope  ...   \n",
      "3    Ajani, the Greathearted      Arcane Sanctum          Arcane Signet  ...   \n",
      "4  An Offer You Can't Refuse  Anguished Unmaking         Arcane Sanctum  ...   \n",
      "\n",
      "             Card 91              Card 92           Card 93          Card 94  \\\n",
      "0                NaN                  NaN               NaN              NaN   \n",
      "1   Wooded Foothills        Zagoth Triome               NaN              NaN   \n",
      "2  Waterlogged Grove  Winding Constrictor  Winds of Abandon  Windswept Heath   \n",
      "3                NaN                  NaN               NaN              NaN   \n",
      "4   Wooded Foothills                  NaN               NaN              NaN   \n",
      "\n",
      "         Card 95         Card 96 Card 97 Card 98 Card 99 Card 100  \n",
      "0            NaN             NaN     NaN     NaN     NaN      NaN  \n",
      "1            NaN             NaN     NaN     NaN     NaN      NaN  \n",
      "2  Worldly Tutor  Yavimaya Coast     NaN     NaN     NaN      NaN  \n",
      "3            NaN             NaN     NaN     NaN     NaN      NaN  \n",
      "4            NaN             NaN     NaN     NaN     NaN      NaN  \n",
      "\n",
      "[5 rows x 105 columns]\n"
     ]
    }
   ],
   "source": [
    "import os\n",
    "import pandas as pd\n",
    "\n",
    "directory = 'data/'\n",
    "\n",
    "# Dictionary to hold DataFrames\n",
    "dataframes = {}\n",
    "\n",
    "# Iterate over all files in the directory\n",
    "for filename in os.listdir(directory):\n",
    "    if filename.endswith('.csv'):\n",
    "        # Create a DataFrame name by replacing 'decklists' with 'df' in the filename\n",
    "        df_name = filename.replace('decklists', 'df').replace('.csv', '')\n",
    "\n",
    "        try:\n",
    "            # Read the CSV file into a DataFrame\n",
    "            df = pd.read_csv(os.path.join(directory, filename))\n",
    "            # Store the DataFrame in the dictionary\n",
    "            dataframes[df_name] = df\n",
    "        except pd.errors.ParserError as e:\n",
    "            print(f\"Error parsing {filename}: {e}\")\n",
    "        except Exception as e:\n",
    "            print(f\"An error occurred with {filename}: {e}\")\n",
    "            \n",
    "    \n",
    "#access indivdual dfs like that:\n",
    "#df_atraxa = dataframes.get('df_atraxa')\n",
    "\n",
    "print(dataframes.get('df_atraxa').head())"
   ]
  },
  {
   "cell_type": "code",
   "execution_count": 16,
   "outputs": [
    {
     "name": "stdout",
     "output_type": "stream",
     "text": [
      "No duplicate rows found in df_aegar\n",
      "No duplicate rows found in df_atraxa\n",
      "No duplicate rows found in df_firkraag\n",
      "No duplicate rows found in df_ghyrson\n",
      "No duplicate rows found in df_jhoiraWC\n",
      "No duplicate rows found in df_neera\n",
      "No duplicate rows found in df_river_song\n",
      "No duplicate rows found in df_veyran\n",
      "No duplicate rows found in df_yusri\n"
     ]
    }
   ],
   "source": [
    "for df_name, df in dataframes.items():\n",
    "    # Check for duplicate rows\n",
    "    duplicates = df[df.duplicated()]\n",
    "    \n",
    "    \n",
    "    if not duplicates.empty:\n",
    "        print(f\"Duplicate rows found in {df_name}:\")\n",
    "        print(duplicates)\n",
    "    else:\n",
    "        print(f\"No duplicate rows found in {df_name}\")\n",
    "        \n"
   ],
   "metadata": {
    "collapsed": false,
    "ExecuteTime": {
     "end_time": "2024-12-01T15:29:53.695729900Z",
     "start_time": "2024-12-01T15:29:53.198856200Z"
    }
   },
   "id": "bb442030a63ddd6d"
  },
  {
   "cell_type": "code",
   "execution_count": 18,
   "outputs": [
    {
     "name": "stdout",
     "output_type": "stream",
     "text": [
      "   Deck Number          Commander Name  Price                           Tag  \\\n",
      "0            0  Atraxa, Praetors Voice   4283             ['Planeswalkers']   \n",
      "1            1  Atraxa, Praetors Voice    650      ['Phyrexians', 'Infect']   \n",
      "2            2  Atraxa, Praetors Voice   1564            ['+1/+1 Counters']   \n",
      "3            3  Atraxa, Praetors Voice    375  ['Control', 'Planeswalkers']   \n",
      "4            4  Atraxa, Praetors Voice    329                    ['Infect']   \n",
      "\n",
      "         Date                   Card 1                    Card 2  \\\n",
      "0  2024-11-18  Atraxa, Praetors' Voice           Ajani Steadfast   \n",
      "1  2024-11-18  Atraxa, Praetors' Voice      Ajani, Sleeper Agent   \n",
      "2  2024-11-18  Atraxa, Praetors' Voice  Anduril, Narsil Reforged   \n",
      "3  2024-11-18  Atraxa, Praetors' Voice            Adarkar Wastes   \n",
      "4  2024-11-18  Atraxa, Praetors' Voice      Agent Frank Horrigan   \n",
      "\n",
      "                      Card 3              Card 4                 Card 5  ...  \\\n",
      "0  An Offer You Can't Refuse       Arcane Denial          Arcane Signet  ...   \n",
      "1              Angel's Grace      Arcane Sanctum          Arcane Signet  ...   \n",
      "2              Arcane Signet  Archangel of Thune  Arwen, Weaver of Hope  ...   \n",
      "3    Ajani, the Greathearted      Arcane Sanctum          Arcane Signet  ...   \n",
      "4  An Offer You Can't Refuse  Anguished Unmaking         Arcane Sanctum  ...   \n",
      "\n",
      "             Card 91              Card 92           Card 93          Card 94  \\\n",
      "0        [BasicLand]          [BasicLand]       [BasicLand]      [BasicLand]   \n",
      "1   Wooded Foothills        Zagoth Triome       [BasicLand]      [BasicLand]   \n",
      "2  Waterlogged Grove  Winding Constrictor  Winds of Abandon  Windswept Heath   \n",
      "3        [BasicLand]          [BasicLand]       [BasicLand]      [BasicLand]   \n",
      "4   Wooded Foothills          [BasicLand]       [BasicLand]      [BasicLand]   \n",
      "\n",
      "         Card 95         Card 96      Card 97      Card 98      Card 99  \\\n",
      "0    [BasicLand]     [BasicLand]  [BasicLand]  [BasicLand]  [BasicLand]   \n",
      "1    [BasicLand]     [BasicLand]  [BasicLand]  [BasicLand]  [BasicLand]   \n",
      "2  Worldly Tutor  Yavimaya Coast  [BasicLand]  [BasicLand]  [BasicLand]   \n",
      "3    [BasicLand]     [BasicLand]  [BasicLand]  [BasicLand]  [BasicLand]   \n",
      "4    [BasicLand]     [BasicLand]  [BasicLand]  [BasicLand]  [BasicLand]   \n",
      "\n",
      "      Card 100  \n",
      "0  [BasicLand]  \n",
      "1  [BasicLand]  \n",
      "2  [BasicLand]  \n",
      "3  [BasicLand]  \n",
      "4  [BasicLand]  \n",
      "\n",
      "[5 rows x 105 columns]\n"
     ]
    }
   ],
   "source": [
    "for df_name, df in dataframes.items():\n",
    "    # Fill NaN values with [BasicLand]\n",
    "    dataframes[df_name] = df.fillna('[BasicLand]')\n",
    "    \n",
    "print(dataframes.get('df_atraxa').head())"
   ],
   "metadata": {
    "collapsed": false,
    "ExecuteTime": {
     "end_time": "2024-12-01T15:30:05.174728700Z",
     "start_time": "2024-12-01T15:30:04.691489Z"
    }
   },
   "id": "2d553ca10040e043"
  },
  {
   "cell_type": "code",
   "execution_count": 17,
   "outputs": [],
   "source": [],
   "metadata": {
    "collapsed": false,
    "ExecuteTime": {
     "end_time": "2024-12-01T15:29:54.114992800Z",
     "start_time": "2024-12-01T15:29:54.100471300Z"
    }
   },
   "id": "df83b5aa567e05f1"
  },
  {
   "cell_type": "code",
   "execution_count": 17,
   "outputs": [],
   "source": [],
   "metadata": {
    "collapsed": false,
    "ExecuteTime": {
     "end_time": "2024-12-01T15:29:54.146527700Z",
     "start_time": "2024-12-01T15:29:54.116491300Z"
    }
   },
   "id": "3fb7c26848c264c8"
  }
 ],
 "metadata": {
  "kernelspec": {
   "display_name": "Python 3",
   "language": "python",
   "name": "python3"
  },
  "language_info": {
   "codemirror_mode": {
    "name": "ipython",
    "version": 2
   },
   "file_extension": ".py",
   "mimetype": "text/x-python",
   "name": "python",
   "nbconvert_exporter": "python",
   "pygments_lexer": "ipython2",
   "version": "2.7.6"
  }
 },
 "nbformat": 4,
 "nbformat_minor": 5
}
