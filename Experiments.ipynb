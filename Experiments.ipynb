{
 "cells": [
  {
   "cell_type": "code",
   "execution_count": 11,
   "id": "initial_id",
   "metadata": {
    "collapsed": true,
    "ExecuteTime": {
     "end_time": "2024-12-02T19:10:18.225246300Z",
     "start_time": "2024-12-02T19:10:16.955207500Z"
    }
   },
   "outputs": [
    {
     "name": "stdout",
     "output_type": "stream",
     "text": [
      "   Deck Number          Commander Name  Price                           Tag  \\\n",
      "0            0  Atraxa, Praetors Voice   4283             ['Planeswalkers']   \n",
      "1            1  Atraxa, Praetors Voice    650      ['Phyrexians', 'Infect']   \n",
      "2            2  Atraxa, Praetors Voice   1564            ['+1/+1 Counters']   \n",
      "3            3  Atraxa, Praetors Voice    375  ['Control', 'Planeswalkers']   \n",
      "4            4  Atraxa, Praetors Voice    329                    ['Infect']   \n",
      "\n",
      "         Date                   Card 1                    Card 2  \\\n",
      "0  2024-11-18  Atraxa, Praetors' Voice           Ajani Steadfast   \n",
      "1  2024-11-18  Atraxa, Praetors' Voice      Ajani, Sleeper Agent   \n",
      "2  2024-11-18  Atraxa, Praetors' Voice  Anduril, Narsil Reforged   \n",
      "3  2024-11-18  Atraxa, Praetors' Voice            Adarkar Wastes   \n",
      "4  2024-11-18  Atraxa, Praetors' Voice      Agent Frank Horrigan   \n",
      "\n",
      "                      Card 3              Card 4                 Card 5  ...  \\\n",
      "0  An Offer You Can't Refuse       Arcane Denial          Arcane Signet  ...   \n",
      "1              Angel's Grace      Arcane Sanctum          Arcane Signet  ...   \n",
      "2              Arcane Signet  Archangel of Thune  Arwen, Weaver of Hope  ...   \n",
      "3    Ajani, the Greathearted      Arcane Sanctum          Arcane Signet  ...   \n",
      "4  An Offer You Can't Refuse  Anguished Unmaking         Arcane Sanctum  ...   \n",
      "\n",
      "             Card 91              Card 92           Card 93          Card 94  \\\n",
      "0                NaN                  NaN               NaN              NaN   \n",
      "1   Wooded Foothills        Zagoth Triome               NaN              NaN   \n",
      "2  Waterlogged Grove  Winding Constrictor  Winds of Abandon  Windswept Heath   \n",
      "3                NaN                  NaN               NaN              NaN   \n",
      "4   Wooded Foothills                  NaN               NaN              NaN   \n",
      "\n",
      "         Card 95         Card 96 Card 97 Card 98 Card 99 Card 100  \n",
      "0            NaN             NaN     NaN     NaN     NaN      NaN  \n",
      "1            NaN             NaN     NaN     NaN     NaN      NaN  \n",
      "2  Worldly Tutor  Yavimaya Coast     NaN     NaN     NaN      NaN  \n",
      "3            NaN             NaN     NaN     NaN     NaN      NaN  \n",
      "4            NaN             NaN     NaN     NaN     NaN      NaN  \n",
      "\n",
      "[5 rows x 105 columns]\n"
     ]
    }
   ],
   "source": [
    "import os\n",
    "import pandas as pd\n",
    "\n",
    "directory = 'data/'\n",
    "\n",
    "# Dictionary to hold DataFrames\n",
    "dataframes = {}\n",
    "\n",
    "# Iterate over all files in the directory\n",
    "for filename in os.listdir(directory):\n",
    "    if filename.endswith('.csv'):\n",
    "        # Create a DataFrame name by replacing 'decklists' with 'df' in the filename\n",
    "        df_name = filename.replace('decklists', 'df').replace('.csv', '')\n",
    "\n",
    "        try:\n",
    "            # Read the CSV file into a DataFrame\n",
    "            df = pd.read_csv(os.path.join(directory, filename))\n",
    "            # Store the DataFrame in the dictionary\n",
    "            dataframes[df_name] = df\n",
    "        except pd.errors.ParserError as e:\n",
    "            print(f\"Error parsing {filename}: {e}\")\n",
    "        except Exception as e:\n",
    "            print(f\"An error occurred with {filename}: {e}\")\n",
    "            \n",
    "    \n",
    "#access indivdual dfs like that:\n",
    "#df_atraxa = dataframes.get('df_atraxa')\n",
    "\n",
    "print(dataframes.get('df_atraxa').head())"
   ]
  },
  {
   "cell_type": "code",
   "execution_count": 12,
   "outputs": [
    {
     "name": "stdout",
     "output_type": "stream",
     "text": [
      "No duplicate rows found in df_aegar\n",
      "No duplicate rows found in df_atraxa\n",
      "No duplicate rows found in df_bria\n",
      "No duplicate rows found in df_firkraag\n",
      "No duplicate rows found in df_ghyrson\n",
      "No duplicate rows found in df_jhoiraWC\n",
      "No duplicate rows found in df_neera\n",
      "No duplicate rows found in df_river_song\n",
      "No duplicate rows found in df_veyran\n",
      "No duplicate rows found in df_yusri\n"
     ]
    }
   ],
   "source": [
    "for df_name, df in dataframes.items():\n",
    "    # Check for duplicate rows\n",
    "    duplicates = df[df.duplicated()]\n",
    "    \n",
    "    \n",
    "    if not duplicates.empty:\n",
    "        print(f\"Duplicate rows found in {df_name}:\")\n",
    "        print(duplicates)\n",
    "    else:\n",
    "        print(f\"No duplicate rows found in {df_name}\")\n",
    "        \n"
   ],
   "metadata": {
    "collapsed": false,
    "ExecuteTime": {
     "end_time": "2024-12-02T19:10:18.723968200Z",
     "start_time": "2024-12-02T19:10:18.227253500Z"
    }
   },
   "id": "bb442030a63ddd6d"
  },
  {
   "cell_type": "code",
   "execution_count": 13,
   "outputs": [
    {
     "name": "stdout",
     "output_type": "stream",
     "text": [
      "   Deck Number          Commander Name  Price                           Tag  \\\n",
      "0            0  Atraxa, Praetors Voice   4283             ['Planeswalkers']   \n",
      "1            1  Atraxa, Praetors Voice    650      ['Phyrexians', 'Infect']   \n",
      "2            2  Atraxa, Praetors Voice   1564            ['+1/+1 Counters']   \n",
      "3            3  Atraxa, Praetors Voice    375  ['Control', 'Planeswalkers']   \n",
      "4            4  Atraxa, Praetors Voice    329                    ['Infect']   \n",
      "\n",
      "         Date                   Card 1                    Card 2  \\\n",
      "0  2024-11-18  Atraxa, Praetors' Voice           Ajani Steadfast   \n",
      "1  2024-11-18  Atraxa, Praetors' Voice      Ajani, Sleeper Agent   \n",
      "2  2024-11-18  Atraxa, Praetors' Voice  Anduril, Narsil Reforged   \n",
      "3  2024-11-18  Atraxa, Praetors' Voice            Adarkar Wastes   \n",
      "4  2024-11-18  Atraxa, Praetors' Voice      Agent Frank Horrigan   \n",
      "\n",
      "                      Card 3              Card 4                 Card 5  ...  \\\n",
      "0  An Offer You Can't Refuse       Arcane Denial          Arcane Signet  ...   \n",
      "1              Angel's Grace      Arcane Sanctum          Arcane Signet  ...   \n",
      "2              Arcane Signet  Archangel of Thune  Arwen, Weaver of Hope  ...   \n",
      "3    Ajani, the Greathearted      Arcane Sanctum          Arcane Signet  ...   \n",
      "4  An Offer You Can't Refuse  Anguished Unmaking         Arcane Sanctum  ...   \n",
      "\n",
      "             Card 91              Card 92           Card 93          Card 94  \\\n",
      "0        [BasicLand]          [BasicLand]       [BasicLand]      [BasicLand]   \n",
      "1   Wooded Foothills        Zagoth Triome       [BasicLand]      [BasicLand]   \n",
      "2  Waterlogged Grove  Winding Constrictor  Winds of Abandon  Windswept Heath   \n",
      "3        [BasicLand]          [BasicLand]       [BasicLand]      [BasicLand]   \n",
      "4   Wooded Foothills          [BasicLand]       [BasicLand]      [BasicLand]   \n",
      "\n",
      "         Card 95         Card 96      Card 97      Card 98      Card 99  \\\n",
      "0    [BasicLand]     [BasicLand]  [BasicLand]  [BasicLand]  [BasicLand]   \n",
      "1    [BasicLand]     [BasicLand]  [BasicLand]  [BasicLand]  [BasicLand]   \n",
      "2  Worldly Tutor  Yavimaya Coast  [BasicLand]  [BasicLand]  [BasicLand]   \n",
      "3    [BasicLand]     [BasicLand]  [BasicLand]  [BasicLand]  [BasicLand]   \n",
      "4    [BasicLand]     [BasicLand]  [BasicLand]  [BasicLand]  [BasicLand]   \n",
      "\n",
      "      Card 100  \n",
      "0  [BasicLand]  \n",
      "1  [BasicLand]  \n",
      "2  [BasicLand]  \n",
      "3  [BasicLand]  \n",
      "4  [BasicLand]  \n",
      "\n",
      "[5 rows x 105 columns]\n"
     ]
    }
   ],
   "source": [
    "for df_name, df in dataframes.items():\n",
    "    # Fill NaN values with [BasicLand]\n",
    "    dataframes[df_name] = df.fillna('[BasicLand]')\n",
    "    \n",
    "print(dataframes.get('df_atraxa').head())"
   ],
   "metadata": {
    "collapsed": false,
    "ExecuteTime": {
     "end_time": "2024-12-02T19:10:19.097732100Z",
     "start_time": "2024-12-02T19:10:18.723968200Z"
    }
   },
   "id": "2d553ca10040e043"
  },
  {
   "cell_type": "code",
   "execution_count": 14,
   "outputs": [
    {
     "data": {
      "text/plain": "<Figure size 1000x600 with 1 Axes>",
      "image/png": "[encoded data removed]"
     },
     "metadata": {},
     "output_type": "display_data"
    }
   ],
   "source": [
    "import matplotlib.pyplot as plt\n",
    "\n",
    "# List to hold all date values\n",
    "all_dates = []\n",
    "\n",
    "for df_name, df in dataframes.items():\n",
    "    if 'Date' in df.columns:\n",
    "        # Append the 'Date' column values and DataFrame name to the list\n",
    "        dates = df['Date'].dropna().tolist()\n",
    "        all_dates.extend([(date, df_name) for date in dates])\n",
    "\n",
    "# Convert the list of dates to a pandas DataFrame\n",
    "date_df = pd.DataFrame(all_dates, columns=['Date', 'DataFrame'])\n",
    "\n",
    "# Convert the date values to datetime format\n",
    "date_df['Date'] = pd.to_datetime(date_df['Date'], errors='coerce')\n",
    "\n",
    "# Drop NaT values that couldn't be converted\n",
    "date_df = date_df.dropna()\n",
    "\n",
    "# Plot the distribution of the dates\n",
    "plt.figure(figsize=(10, 6))\n",
    "\n",
    "# Create a histogram for each DataFrame\n",
    "for df_name in date_df['DataFrame'].unique():\n",
    "    subset = date_df[date_df['DataFrame'] == df_name]\n",
    "    plt.hist(subset['Date'], bins=30, alpha=0.5, label=df_name)\n",
    "\n",
    "plt.title('Distribution of Last Changed Dates')\n",
    "plt.xlabel('Date')\n",
    "plt.ylabel('Frequency')\n",
    "plt.legend()\n",
    "plt.grid(True)\n",
    "plt.show()"
   ],
   "metadata": {
    "collapsed": false,
    "ExecuteTime": {
     "end_time": "2024-12-02T19:10:19.563334300Z",
     "start_time": "2024-12-02T19:10:19.099732Z"
    }
   },
   "id": "df83b5aa567e05f1"
  },
  {
   "cell_type": "code",
   "execution_count": 18,
   "outputs": [
    {
     "name": "stdout",
     "output_type": "stream",
     "text": [
      "\n",
      "DataFrame: df_aegar\n",
      "Unique cards count: 4680\n",
      "Mean count of non-[BasicLand] cards: 76.77241126966703\n",
      "\n",
      "DataFrame: df_atraxa\n",
      "Unique cards count: 14604\n",
      "Mean count of non-[BasicLand] cards: 87.67632241813602\n",
      "\n",
      "DataFrame: df_bria\n",
      "Unique cards count: 4873\n",
      "Mean count of non-[BasicLand] cards: 78.48736196319018\n",
      "\n",
      "DataFrame: df_firkraag\n",
      "Unique cards count: 3556\n",
      "Mean count of non-[BasicLand] cards: 78.44572158365261\n",
      "\n",
      "DataFrame: df_ghyrson\n",
      "Unique cards count: 5877\n",
      "Mean count of non-[BasicLand] cards: 78.50124704227153\n",
      "\n",
      "DataFrame: df_jhoiraWC\n",
      "Unique cards count: 5091\n",
      "Mean count of non-[BasicLand] cards: 82.92787365678932\n",
      "\n",
      "DataFrame: df_neera\n",
      "Unique cards count: 5922\n",
      "Mean count of non-[BasicLand] cards: 77.39423076923077\n",
      "\n",
      "DataFrame: df_river_song\n",
      "Unique cards count: 4536\n",
      "Mean count of non-[BasicLand] cards: 80.6982276119403\n",
      "\n",
      "DataFrame: df_veyran\n",
      "Unique cards count: 4655\n",
      "Mean count of non-[BasicLand] cards: 79.92558028236421\n",
      "\n",
      "\n",
      "DataFrame: df_yusri\n",
      "Unique cards count: 4654\n",
      "Mean count of non-[BasicLand] cards: 77.76163265306123\n"
     ]
    }
   ],
   "source": [
    "# Initialize a dictionary to store the unique values count for each DataFrame\n",
    "unique_values = {}\n",
    "mean_values = {}\n",
    "\n",
    "for df_name, df in dataframes.items():\n",
    "    # Select only the columns from 'Card 1' to 'Card 100'\n",
    "    selected_columns = df.loc[:, 'Card 1':'Card 100']\n",
    "    \n",
    "    # Calculate the mean value for each row excluding the '[BasicLand]' entries\n",
    "    mean_values[df_name] = selected_columns.apply(lambda row: row[row != '[BasicLand]'].count(), axis=1).mean()\n",
    "    \n",
    "    # Concatenate the selected columns into a single Series\n",
    "    concatenated_series = pd.concat([selected_columns[col] for col in selected_columns.columns], ignore_index=True)\n",
    "    \n",
    "    # Remove '[BasicLand]' entries\n",
    "    cleaned_series = concatenated_series[concatenated_series != '[BasicLand]']\n",
    "    \n",
    "    # Count the number of unique values in the cleaned Series\n",
    "    unique_count = cleaned_series.nunique()\n",
    "    \n",
    "    # Store the results in the dictionary\n",
    "    unique_values[df_name] = unique_count\n",
    "    \n",
    "    # Print the results\n",
    "    print(f\"\\nDataFrame: {df_name}\")\n",
    "    print(f\"Unique cards count: {unique_count}\")\n",
    "    print(f\"Mean count of non-[BasicLand] cards: {mean_values[df_name]}\\n\")\n"
   ],
   "metadata": {
    "collapsed": false,
    "ExecuteTime": {
     "end_time": "2024-12-02T19:14:12.001582500Z",
     "start_time": "2024-12-02T19:14:02.034518300Z"
    }
   },
   "id": "3fb7c26848c264c8"
  },
  {
   "cell_type": "code",
   "execution_count": 15,
   "outputs": [],
   "source": [],
   "metadata": {
    "collapsed": false,
    "ExecuteTime": {
     "end_time": "2024-12-02T19:10:29.535013300Z",
     "start_time": "2024-12-02T19:10:29.520494100Z"
    }
   },
   "id": "538b96b0b8689a92"
  }
 ],
 "metadata": {
  "kernelspec": {
   "display_name": "Python 3",
   "language": "python",
   "name": "python3"
  },
  "language_info": {
   "codemirror_mode": {
    "name": "ipython",
    "version": 2
   },
   "file_extension": ".py",
   "mimetype": "text/x-python",
   "name": "python",
   "nbconvert_exporter": "python",
   "pygments_lexer": "ipython2",
   "version": "2.7.6"
  }
 },
 "nbformat": 4,
 "nbformat_minor": 5
}
