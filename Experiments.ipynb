{
 "cells": [
  {
   "cell_type": "code",
   "execution_count": 4,
   "id": "initial_id",
   "metadata": {
    "collapsed": true,
    "ExecuteTime": {
     "end_time": "2024-12-01T15:07:32.098894800Z",
     "start_time": "2024-12-01T15:07:30.898850Z"
    }
   },
   "outputs": [
    {
     "name": "stdout",
     "output_type": "stream",
     "text": [
      "   Deck Number          Commander Name  Price                           Tag  \\\n",
      "0            0  Atraxa, Praetors Voice   4283             ['Planeswalkers']   \n",
      "1            1  Atraxa, Praetors Voice    650      ['Phyrexians', 'Infect']   \n",
      "2            2  Atraxa, Praetors Voice   1564            ['+1/+1 Counters']   \n",
      "3            3  Atraxa, Praetors Voice    375  ['Control', 'Planeswalkers']   \n",
      "4            4  Atraxa, Praetors Voice    329                    ['Infect']   \n",
      "\n",
      "         Date                   Card 1                    Card 2  \\\n",
      "0  2024-11-18  Atraxa, Praetors' Voice           Ajani Steadfast   \n",
      "1  2024-11-18  Atraxa, Praetors' Voice      Ajani, Sleeper Agent   \n",
      "2  2024-11-18  Atraxa, Praetors' Voice  Anduril, Narsil Reforged   \n",
      "3  2024-11-18  Atraxa, Praetors' Voice            Adarkar Wastes   \n",
      "4  2024-11-18  Atraxa, Praetors' Voice      Agent Frank Horrigan   \n",
      "\n",
      "                      Card 3              Card 4                 Card 5  ...  \\\n",
      "0  An Offer You Can't Refuse       Arcane Denial          Arcane Signet  ...   \n",
      "1              Angel's Grace      Arcane Sanctum          Arcane Signet  ...   \n",
      "2              Arcane Signet  Archangel of Thune  Arwen, Weaver of Hope  ...   \n",
      "3    Ajani, the Greathearted      Arcane Sanctum          Arcane Signet  ...   \n",
      "4  An Offer You Can't Refuse  Anguished Unmaking         Arcane Sanctum  ...   \n",
      "\n",
      "             Card 91              Card 92           Card 93          Card 94  \\\n",
      "0                NaN                  NaN               NaN              NaN   \n",
      "1   Wooded Foothills        Zagoth Triome               NaN              NaN   \n",
      "2  Waterlogged Grove  Winding Constrictor  Winds of Abandon  Windswept Heath   \n",
      "3                NaN                  NaN               NaN              NaN   \n",
      "4   Wooded Foothills                  NaN               NaN              NaN   \n",
      "\n",
      "         Card 95         Card 96 Card 97 Card 98 Card 99 Card 100  \n",
      "0            NaN             NaN     NaN     NaN     NaN      NaN  \n",
      "1            NaN             NaN     NaN     NaN     NaN      NaN  \n",
      "2  Worldly Tutor  Yavimaya Coast     NaN     NaN     NaN      NaN  \n",
      "3            NaN             NaN     NaN     NaN     NaN      NaN  \n",
      "4            NaN             NaN     NaN     NaN     NaN      NaN  \n",
      "\n",
      "[5 rows x 105 columns]\n"
     ]
    }
   ],
   "source": [
    "import os\n",
    "import pandas as pd\n",
    "\n",
    "directory = 'data/'\n",
    "\n",
    "# Dictionary to hold DataFrames\n",
    "dataframes = {}\n",
    "\n",
    "# Iterate over all files in the directory\n",
    "for filename in os.listdir(directory):\n",
    "    if filename.endswith('.csv'):\n",
    "        # Create a DataFrame name by replacing 'decklists' with 'df' in the filename\n",
    "        df_name = filename.replace('decklists', 'df').replace('.csv', '')\n",
    "\n",
    "        try:\n",
    "            # Read the CSV file into a DataFrame\n",
    "            df = pd.read_csv(os.path.join(directory, filename))\n",
    "            # Store the DataFrame in the dictionary\n",
    "            dataframes[df_name] = df\n",
    "        except pd.errors.ParserError as e:\n",
    "            print(f\"Error parsing {filename}: {e}\")\n",
    "        except Exception as e:\n",
    "            print(f\"An error occurred with {filename}: {e}\")\n",
    "            \n",
    "            \n",
    "print(dataframes.get('df_atraxa').head())"
   ]
  },
  {
   "cell_type": "code",
   "execution_count": 2,
   "outputs": [],
   "source": [],
   "metadata": {
    "collapsed": false,
    "ExecuteTime": {
     "end_time": "2024-12-01T15:06:03.334274300Z",
     "start_time": "2024-12-01T15:06:03.323249200Z"
    }
   },
   "id": "bb442030a63ddd6d"
  },
  {
   "cell_type": "code",
   "execution_count": null,
   "outputs": [],
   "source": [],
   "metadata": {
    "collapsed": false
   },
   "id": "2d553ca10040e043"
  }
 ],
 "metadata": {
  "kernelspec": {
   "display_name": "Python 3",
   "language": "python",
   "name": "python3"
  },
  "language_info": {
   "codemirror_mode": {
    "name": "ipython",
    "version": 2
   },
   "file_extension": ".py",
   "mimetype": "text/x-python",
   "name": "python",
   "nbconvert_exporter": "python",
   "pygments_lexer": "ipython2",
   "version": "2.7.6"
  }
 },
 "nbformat": 4,
 "nbformat_minor": 5
}
